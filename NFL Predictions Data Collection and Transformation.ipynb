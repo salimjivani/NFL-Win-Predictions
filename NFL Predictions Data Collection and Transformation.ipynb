{
 "cells": [
  {
   "cell_type": "code",
   "execution_count": 1,
   "id": "bc51f4eb",
   "metadata": {},
   "outputs": [],
   "source": [
    "import pandas as pd\n",
    "import numpy as np\n",
    "\n",
    "import matplotlib.pyplot as plt\n",
    "\n",
    "from pandas.plotting import scatter_matrix\n",
    "from pandas import DataFrame, read_csv\n",
    "\n",
    "import os, sys\n",
    "\n",
    "import glob"
   ]
  },
  {
   "cell_type": "markdown",
   "id": "24492129",
   "metadata": {},
   "source": [
    "## Combine CSV files into 1 dataframe"
   ]
  },
  {
   "cell_type": "code",
   "execution_count": 6,
   "id": "de5dd2cc",
   "metadata": {},
   "outputs": [
    {
     "name": "stdout",
     "output_type": "stream",
     "text": [
      "['2021NFLTesting.csv', 'NFL_Grouped_Stats_Dataset_for_Model.csv', 'pbp-2014.csv', 'pbp-2015.csv', 'pbp-2016.csv', 'pbp-2017.csv', 'pbp-2018.csv', 'pbp-2019.csv', 'pbp-2020.csv', 'pbp-2021.csv']\n"
     ]
    }
   ],
   "source": [
    "#get list of csv files from directory\n",
    "\n",
    "#csvlist = glob.glob(\"2021NFLtesting.csv\")\n",
    "#print(csvlist) \n",
    "\n",
    "csvlist = glob.glob(\"*.csv\")\n",
    "print(csvlist) "
   ]
  },
  {
   "cell_type": "code",
   "execution_count": 7,
   "id": "181b281a",
   "metadata": {},
   "outputs": [
    {
     "data": {
      "text/html": [
       "<div>\n",
       "<style scoped>\n",
       "    .dataframe tbody tr th:only-of-type {\n",
       "        vertical-align: middle;\n",
       "    }\n",
       "\n",
       "    .dataframe tbody tr th {\n",
       "        vertical-align: top;\n",
       "    }\n",
       "\n",
       "    .dataframe thead th {\n",
       "        text-align: right;\n",
       "    }\n",
       "</style>\n",
       "<table border=\"1\" class=\"dataframe\">\n",
       "  <thead>\n",
       "    <tr style=\"text-align: right;\">\n",
       "      <th></th>\n",
       "      <th>GameId</th>\n",
       "      <th>GameDate</th>\n",
       "      <th>Quarter</th>\n",
       "      <th>Minute</th>\n",
       "      <th>Second</th>\n",
       "      <th>OffenseTeam</th>\n",
       "      <th>DefenseTeam</th>\n",
       "      <th>Down</th>\n",
       "      <th>ToGo</th>\n",
       "      <th>YardLine</th>\n",
       "      <th>...</th>\n",
       "      <th>IsNoPlay</th>\n",
       "      <th>PenaltyType</th>\n",
       "      <th>PenaltyYards</th>\n",
       "      <th>Unnamed: 0</th>\n",
       "      <th>Score</th>\n",
       "      <th>PassingYards</th>\n",
       "      <th>RunningYards</th>\n",
       "      <th>Penalties</th>\n",
       "      <th>Turnovers</th>\n",
       "      <th>Win_Lose</th>\n",
       "    </tr>\n",
       "  </thead>\n",
       "  <tbody>\n",
       "    <tr>\n",
       "      <th>0</th>\n",
       "      <td>2021100306</td>\n",
       "      <td>10/3/2021</td>\n",
       "      <td>2.0</td>\n",
       "      <td>2.0</td>\n",
       "      <td>29.0</td>\n",
       "      <td>NO</td>\n",
       "      <td>NYG</td>\n",
       "      <td>3.0</td>\n",
       "      <td>9.0</td>\n",
       "      <td>62.0</td>\n",
       "      <td>...</td>\n",
       "      <td>0.0</td>\n",
       "      <td>NaN</td>\n",
       "      <td>0</td>\n",
       "      <td>NaN</td>\n",
       "      <td>NaN</td>\n",
       "      <td>NaN</td>\n",
       "      <td>NaN</td>\n",
       "      <td>NaN</td>\n",
       "      <td>NaN</td>\n",
       "      <td>NaN</td>\n",
       "    </tr>\n",
       "    <tr>\n",
       "      <th>1</th>\n",
       "      <td>2021100306</td>\n",
       "      <td>10/3/2021</td>\n",
       "      <td>2.0</td>\n",
       "      <td>2.0</td>\n",
       "      <td>0.0</td>\n",
       "      <td>NaN</td>\n",
       "      <td>NaN</td>\n",
       "      <td>0.0</td>\n",
       "      <td>0.0</td>\n",
       "      <td>100.0</td>\n",
       "      <td>...</td>\n",
       "      <td>0.0</td>\n",
       "      <td>NaN</td>\n",
       "      <td>0</td>\n",
       "      <td>NaN</td>\n",
       "      <td>NaN</td>\n",
       "      <td>NaN</td>\n",
       "      <td>NaN</td>\n",
       "      <td>NaN</td>\n",
       "      <td>NaN</td>\n",
       "      <td>NaN</td>\n",
       "    </tr>\n",
       "    <tr>\n",
       "      <th>2</th>\n",
       "      <td>2021100306</td>\n",
       "      <td>10/3/2021</td>\n",
       "      <td>2.0</td>\n",
       "      <td>2.0</td>\n",
       "      <td>0.0</td>\n",
       "      <td>NO</td>\n",
       "      <td>NYG</td>\n",
       "      <td>1.0</td>\n",
       "      <td>10.0</td>\n",
       "      <td>81.0</td>\n",
       "      <td>...</td>\n",
       "      <td>0.0</td>\n",
       "      <td>NaN</td>\n",
       "      <td>0</td>\n",
       "      <td>NaN</td>\n",
       "      <td>NaN</td>\n",
       "      <td>NaN</td>\n",
       "      <td>NaN</td>\n",
       "      <td>NaN</td>\n",
       "      <td>NaN</td>\n",
       "      <td>NaN</td>\n",
       "    </tr>\n",
       "    <tr>\n",
       "      <th>3</th>\n",
       "      <td>2021100306</td>\n",
       "      <td>10/3/2021</td>\n",
       "      <td>4.0</td>\n",
       "      <td>0.0</td>\n",
       "      <td>48.0</td>\n",
       "      <td>NYG</td>\n",
       "      <td>NO</td>\n",
       "      <td>1.0</td>\n",
       "      <td>10.0</td>\n",
       "      <td>66.0</td>\n",
       "      <td>...</td>\n",
       "      <td>0.0</td>\n",
       "      <td>NaN</td>\n",
       "      <td>0</td>\n",
       "      <td>NaN</td>\n",
       "      <td>NaN</td>\n",
       "      <td>NaN</td>\n",
       "      <td>NaN</td>\n",
       "      <td>NaN</td>\n",
       "      <td>NaN</td>\n",
       "      <td>NaN</td>\n",
       "    </tr>\n",
       "    <tr>\n",
       "      <th>4</th>\n",
       "      <td>2021100306</td>\n",
       "      <td>10/3/2021</td>\n",
       "      <td>2.0</td>\n",
       "      <td>5.0</td>\n",
       "      <td>48.0</td>\n",
       "      <td>NO</td>\n",
       "      <td>NYG</td>\n",
       "      <td>2.0</td>\n",
       "      <td>4.0</td>\n",
       "      <td>54.0</td>\n",
       "      <td>...</td>\n",
       "      <td>0.0</td>\n",
       "      <td>NaN</td>\n",
       "      <td>0</td>\n",
       "      <td>NaN</td>\n",
       "      <td>NaN</td>\n",
       "      <td>NaN</td>\n",
       "      <td>NaN</td>\n",
       "      <td>NaN</td>\n",
       "      <td>NaN</td>\n",
       "      <td>NaN</td>\n",
       "    </tr>\n",
       "  </tbody>\n",
       "</table>\n",
       "<p>5 rows × 52 columns</p>\n",
       "</div>"
      ],
      "text/plain": [
       "       GameId   GameDate  Quarter  Minute  Second OffenseTeam DefenseTeam  \\\n",
       "0  2021100306  10/3/2021      2.0     2.0    29.0          NO         NYG   \n",
       "1  2021100306  10/3/2021      2.0     2.0     0.0         NaN         NaN   \n",
       "2  2021100306  10/3/2021      2.0     2.0     0.0          NO         NYG   \n",
       "3  2021100306  10/3/2021      4.0     0.0    48.0         NYG          NO   \n",
       "4  2021100306  10/3/2021      2.0     5.0    48.0          NO         NYG   \n",
       "\n",
       "   Down  ToGo  YardLine  ...  IsNoPlay  PenaltyType  PenaltyYards  Unnamed: 0  \\\n",
       "0   3.0   9.0      62.0  ...       0.0          NaN             0         NaN   \n",
       "1   0.0   0.0     100.0  ...       0.0          NaN             0         NaN   \n",
       "2   1.0  10.0      81.0  ...       0.0          NaN             0         NaN   \n",
       "3   1.0  10.0      66.0  ...       0.0          NaN             0         NaN   \n",
       "4   2.0   4.0      54.0  ...       0.0          NaN             0         NaN   \n",
       "\n",
       "  Score  PassingYards  RunningYards  Penalties  Turnovers  Win_Lose  \n",
       "0   NaN           NaN           NaN        NaN        NaN       NaN  \n",
       "1   NaN           NaN           NaN        NaN        NaN       NaN  \n",
       "2   NaN           NaN           NaN        NaN        NaN       NaN  \n",
       "3   NaN           NaN           NaN        NaN        NaN       NaN  \n",
       "4   NaN           NaN           NaN        NaN        NaN       NaN  \n",
       "\n",
       "[5 rows x 52 columns]"
      ]
     },
     "execution_count": 7,
     "metadata": {},
     "output_type": "execute_result"
    }
   ],
   "source": [
    "#combine csv files into one dataframe\n",
    "\n",
    "total = 0\n",
    "\n",
    "tmp = pd.DataFrame()\n",
    "\n",
    "for x in csvlist:\n",
    "    df = pd.read_csv(x)\n",
    "    tmp = tmp.append(df)\n",
    "    total += len(df)\n",
    "    #realresults.append(df)\n",
    "    \n",
    "#print(repr(total) + \" - Total Rows\")\n",
    "\n",
    "tmp.head()"
   ]
  },
  {
   "cell_type": "code",
   "execution_count": 8,
   "id": "d96f2a5f",
   "metadata": {
    "scrolled": true
   },
   "outputs": [
    {
     "name": "stdout",
     "output_type": "stream",
     "text": [
      "<class 'pandas.core.frame.DataFrame'>\n",
      "Int64Index: 344967 entries, 0 to 24372\n",
      "Data columns (total 52 columns):\n",
      " #   Column                          Non-Null Count   Dtype  \n",
      "---  ------                          --------------   -----  \n",
      " 0   GameId                          344967 non-null  int64  \n",
      " 1   GameDate                        341155 non-null  object \n",
      " 2   Quarter                         341155 non-null  float64\n",
      " 3   Minute                          341155 non-null  float64\n",
      " 4   Second                          341155 non-null  float64\n",
      " 5   OffenseTeam                     319132 non-null  object \n",
      " 6   DefenseTeam                     335058 non-null  object \n",
      " 7   Down                            341155 non-null  float64\n",
      " 8   ToGo                            341155 non-null  float64\n",
      " 9   YardLine                        341155 non-null  float64\n",
      " 10  Unnamed: 10                     0 non-null       float64\n",
      " 11  SeriesFirstDown                 341155 non-null  float64\n",
      " 12  Unnamed: 12                     0 non-null       float64\n",
      " 13  NextScore                       341155 non-null  float64\n",
      " 14  Description                     341151 non-null  object \n",
      " 15  TeamWin                         341155 non-null  float64\n",
      " 16  Unnamed: 16                     0 non-null       float64\n",
      " 17  Unnamed: 17                     0 non-null       float64\n",
      " 18  SeasonYear                      341155 non-null  float64\n",
      " 19  Yards                           341155 non-null  float64\n",
      " 20  Formation                       335115 non-null  object \n",
      " 21  PlayType                        328767 non-null  object \n",
      " 22  IsRush                          341155 non-null  float64\n",
      " 23  IsPass                          341155 non-null  float64\n",
      " 24  IsIncomplete                    341155 non-null  float64\n",
      " 25  IsTouchdown                     341155 non-null  float64\n",
      " 26  PassType                        141022 non-null  object \n",
      " 27  IsSack                          341155 non-null  float64\n",
      " 28  IsChallenge                     341155 non-null  float64\n",
      " 29  IsChallengeReversed             341155 non-null  float64\n",
      " 30  Challenger                      0 non-null       float64\n",
      " 31  IsMeasurement                   341155 non-null  float64\n",
      " 32  IsInterception                  341155 non-null  float64\n",
      " 33  IsFumble                        341155 non-null  float64\n",
      " 34  IsPenalty                       341155 non-null  float64\n",
      " 35  IsTwoPointConversion            341155 non-null  float64\n",
      " 36  IsTwoPointConversionSuccessful  341155 non-null  float64\n",
      " 37  RushDirection                   93024 non-null   object \n",
      " 38  YardLineFixed                   341155 non-null  float64\n",
      " 39  YardLineDirection               341155 non-null  object \n",
      " 40  IsPenaltyAccepted               341155 non-null  float64\n",
      " 41  PenaltyTeam                     28479 non-null   object \n",
      " 42  IsNoPlay                        341155 non-null  float64\n",
      " 43  PenaltyType                     28487 non-null   object \n",
      " 44  PenaltyYards                    344967 non-null  int64  \n",
      " 45  Unnamed: 0                      3812 non-null    float64\n",
      " 46  Score                           3812 non-null    float64\n",
      " 47  PassingYards                    3812 non-null    float64\n",
      " 48  RunningYards                    3812 non-null    float64\n",
      " 49  Penalties                       3812 non-null    float64\n",
      " 50  Turnovers                       3812 non-null    float64\n",
      " 51  Win_Lose                        3812 non-null    object \n",
      "dtypes: float64(38), int64(2), object(12)\n",
      "memory usage: 139.5+ MB\n"
     ]
    }
   ],
   "source": [
    "tmp.info()"
   ]
  },
  {
   "cell_type": "code",
   "execution_count": 9,
   "id": "fcf2e650",
   "metadata": {},
   "outputs": [
    {
     "name": "stdout",
     "output_type": "stream",
     "text": [
      "<class 'pandas.core.frame.DataFrame'>\n",
      "Int64Index: 344967 entries, 0 to 24372\n",
      "Data columns (total 47 columns):\n",
      " #   Column                          Non-Null Count   Dtype  \n",
      "---  ------                          --------------   -----  \n",
      " 0   GameId                          344967 non-null  int64  \n",
      " 1   GameDate                        341155 non-null  object \n",
      " 2   Quarter                         341155 non-null  float64\n",
      " 3   Minute                          341155 non-null  float64\n",
      " 4   Second                          341155 non-null  float64\n",
      " 5   OffenseTeam                     319132 non-null  object \n",
      " 6   DefenseTeam                     335058 non-null  object \n",
      " 7   Down                            341155 non-null  float64\n",
      " 8   ToGo                            341155 non-null  float64\n",
      " 9   YardLine                        341155 non-null  float64\n",
      " 10  SeriesFirstDown                 341155 non-null  float64\n",
      " 11  NextScore                       341155 non-null  float64\n",
      " 12  Description                     341151 non-null  object \n",
      " 13  TeamWin                         341155 non-null  float64\n",
      " 14  SeasonYear                      341155 non-null  float64\n",
      " 15  Yards                           341155 non-null  float64\n",
      " 16  Formation                       335115 non-null  object \n",
      " 17  PlayType                        328767 non-null  object \n",
      " 18  IsRush                          341155 non-null  float64\n",
      " 19  IsPass                          341155 non-null  float64\n",
      " 20  IsIncomplete                    341155 non-null  float64\n",
      " 21  IsTouchdown                     341155 non-null  float64\n",
      " 22  PassType                        141022 non-null  object \n",
      " 23  IsSack                          341155 non-null  float64\n",
      " 24  IsChallenge                     341155 non-null  float64\n",
      " 25  IsChallengeReversed             341155 non-null  float64\n",
      " 26  IsMeasurement                   341155 non-null  float64\n",
      " 27  IsInterception                  341155 non-null  float64\n",
      " 28  IsFumble                        341155 non-null  float64\n",
      " 29  IsPenalty                       341155 non-null  float64\n",
      " 30  IsTwoPointConversion            341155 non-null  float64\n",
      " 31  IsTwoPointConversionSuccessful  341155 non-null  float64\n",
      " 32  RushDirection                   93024 non-null   object \n",
      " 33  YardLineFixed                   341155 non-null  float64\n",
      " 34  YardLineDirection               341155 non-null  object \n",
      " 35  IsPenaltyAccepted               341155 non-null  float64\n",
      " 36  PenaltyTeam                     28479 non-null   object \n",
      " 37  IsNoPlay                        341155 non-null  float64\n",
      " 38  PenaltyType                     28487 non-null   object \n",
      " 39  PenaltyYards                    344967 non-null  int64  \n",
      " 40  Unnamed: 0                      3812 non-null    float64\n",
      " 41  Score                           3812 non-null    float64\n",
      " 42  PassingYards                    3812 non-null    float64\n",
      " 43  RunningYards                    3812 non-null    float64\n",
      " 44  Penalties                       3812 non-null    float64\n",
      " 45  Turnovers                       3812 non-null    float64\n",
      " 46  Win_Lose                        3812 non-null    object \n",
      "dtypes: float64(33), int64(2), object(12)\n",
      "memory usage: 126.3+ MB\n",
      "None\n"
     ]
    }
   ],
   "source": [
    "##drop empty columns\n",
    "tmp = tmp.drop(tmp.columns[[10,12,16,17,30]], axis=1)\n",
    "\n",
    "print(tmp.info())"
   ]
  },
  {
   "cell_type": "code",
   "execution_count": 10,
   "id": "53687ba9",
   "metadata": {},
   "outputs": [],
   "source": [
    "newdf = tmp.reset_index(drop=True)"
   ]
  },
  {
   "cell_type": "markdown",
   "id": "37bc51e6",
   "metadata": {},
   "source": [
    "## Gather scores from each of the games (GameId)"
   ]
  },
  {
   "cell_type": "code",
   "execution_count": 11,
   "id": "c7f542bf",
   "metadata": {},
   "outputs": [],
   "source": [
    "score = []\n",
    "\n",
    "length = newdf.shape[0]\n",
    "count = 0\n",
    "\n",
    "\n",
    "\n",
    "for x in range(0,len(newdf)):\n",
    "    #need to remove NaN values from dataframe\n",
    "    descriptionString = str(newdf[\"Description\"][x])\n",
    "    if \"TOUCHDOWN NULLIFIED\" not in descriptionString and \"TOUCHDOWN\" in descriptionString:\n",
    "        #print(str(count) + \" \" + \"Touchdown\")\n",
    "        score.append(6)\n",
    "    elif \"FIELD GOAL IS GOOD\" in descriptionString:\n",
    "        #print(str(count) + \" \" + \"FIELD GOAL\")\n",
    "        score.append(3)\n",
    "    elif \"EXTRA POINT IS GOOD\" in descriptionString:\n",
    "        #print(str(count) + \" \" + \"EXTRA POINT\")\n",
    "        score.append(1)\n",
    "    elif \"SAFETY\" in descriptionString:\n",
    "        #print(str(count) + \" \" + \"SAFETY\")\n",
    "        score.append(2)\n",
    "    elif \"ATTEMPT SUCCEEDS\" in descriptionString:\n",
    "        #print(str(count) + \" \" + \"2-POINT CONVERSION\")\n",
    "        score.append(2)\n",
    "    else:\n",
    "        #print(str(count) + \" \" + \"NON SCORING PLAY\")\n",
    "        score.append(0)\n",
    "    count += 1\n",
    "#print(score)\n"
   ]
  },
  {
   "cell_type": "code",
   "execution_count": 12,
   "id": "7d38a9d0",
   "metadata": {},
   "outputs": [],
   "source": [
    "##combine scores with dataframe\n",
    "\n",
    "newdf[\"Score\"] = score"
   ]
  },
  {
   "cell_type": "markdown",
   "id": "8bac9f33",
   "metadata": {},
   "source": [
    "## Gather Up Yards"
   ]
  },
  {
   "cell_type": "code",
   "execution_count": 13,
   "id": "d5fb2a7b",
   "metadata": {},
   "outputs": [],
   "source": [
    "passingyards = []\n",
    "\n",
    "for x in range(0,len(newdf)):\n",
    "    #need to remove NaN values from dataframe\n",
    "    descriptionString = str(newdf[\"Description\"][x])\n",
    "    if newdf[\"IsPass\"][x] == 1 and \"- NO PLAY\" not in descriptionString:\n",
    "        passingyards.append(newdf[\"Yards\"][x])\n",
    "        #print(passingyards[x])\n",
    "    else:\n",
    "        passingyards.append(0)\n",
    "        #print(passingyards[x])\n",
    "        \n",
    "#print(passingyards)\n"
   ]
  },
  {
   "cell_type": "code",
   "execution_count": 14,
   "id": "3f4f8d96",
   "metadata": {},
   "outputs": [],
   "source": [
    "newdf[\"PassingYards\"] = passingyards"
   ]
  },
  {
   "cell_type": "markdown",
   "id": "17a77eb8",
   "metadata": {},
   "source": [
    "## Running Yards"
   ]
  },
  {
   "cell_type": "code",
   "execution_count": 15,
   "id": "750e31dd",
   "metadata": {},
   "outputs": [],
   "source": [
    "runningyards = []\n",
    "\n",
    "for x in range(0,len(newdf)):\n",
    "    #need to remove NaN values from dataframe\n",
    "    descriptionString = str(newdf[\"Description\"][x])\n",
    "    if newdf[\"IsRush\"][x] == 1 and \"- NO PLAY\" not in descriptionString:\n",
    "        runningyards.append(newdf[\"Yards\"][x])\n",
    "        #print(runningyards[x])\n",
    "    else:\n",
    "        runningyards.append(0)\n",
    "        #print(runningyards[x])\n",
    "        \n",
    "#print(runningyards)"
   ]
  },
  {
   "cell_type": "code",
   "execution_count": 16,
   "id": "9fbc6ed0",
   "metadata": {},
   "outputs": [],
   "source": [
    "newdf[\"RunningYards\"] = runningyards"
   ]
  },
  {
   "cell_type": "markdown",
   "id": "abe71e6a",
   "metadata": {},
   "source": [
    "## Penalties"
   ]
  },
  {
   "cell_type": "code",
   "execution_count": 17,
   "id": "a0a4f75d",
   "metadata": {},
   "outputs": [],
   "source": [
    "penaltyyards = []\n",
    "penalties = []\n",
    "\n",
    "for x in range(0,len(newdf)):\n",
    "    #need to remove NaN values from dataframe\n",
    "    descriptionString = str(newdf[\"Description\"][x])\n",
    "    if newdf[\"IsPenaltyAccepted\"][x] == 1:\n",
    "        penaltyyards.append(newdf[\"PenaltyYards\"][x])\n",
    "        penalties.append(1)\n",
    "        #print(penaltyyards[x])\n",
    "    else:\n",
    "        penaltyyards.append(0)\n",
    "        penalties.append(0)\n",
    "        #print(penaltyyards[x])\n",
    "        \n",
    "#print(penaltyyards)"
   ]
  },
  {
   "cell_type": "code",
   "execution_count": 18,
   "id": "8a8c119f",
   "metadata": {},
   "outputs": [],
   "source": [
    "newdf[\"PenaltyYards\"] = penaltyyards\n",
    "newdf[\"Penalties\"] = penalties"
   ]
  },
  {
   "cell_type": "markdown",
   "id": "ac415ce9",
   "metadata": {},
   "source": [
    "## Turnovers"
   ]
  },
  {
   "cell_type": "code",
   "execution_count": 19,
   "id": "1710c599",
   "metadata": {},
   "outputs": [],
   "source": [
    "turnovers = []\n",
    "\n",
    "for x in range(0,len(newdf)):\n",
    "    #need to remove NaN values from dataframe\n",
    "    descriptionString = str(newdf[\"Description\"][x])\n",
    "    if newdf[\"IsInterception\"][x] == 1 or newdf[\"IsFumble\"][x] == 1:\n",
    "        turnovers.append(1)\n",
    "        #print(turnovers[x])\n",
    "    else:\n",
    "        turnovers.append(0)\n",
    "        #print(turnovers[x])\n",
    "        \n",
    "#print(turnovers)"
   ]
  },
  {
   "cell_type": "code",
   "execution_count": 20,
   "id": "c3f8e577",
   "metadata": {},
   "outputs": [],
   "source": [
    "newdf[\"Turnovers\"] = turnovers"
   ]
  },
  {
   "cell_type": "code",
   "execution_count": 21,
   "id": "71a806f9",
   "metadata": {},
   "outputs": [
    {
     "name": "stdout",
     "output_type": "stream",
     "text": [
      "<class 'pandas.core.frame.DataFrame'>\n",
      "RangeIndex: 344967 entries, 0 to 344966\n",
      "Data columns (total 47 columns):\n",
      " #   Column                          Non-Null Count   Dtype  \n",
      "---  ------                          --------------   -----  \n",
      " 0   GameId                          344967 non-null  int64  \n",
      " 1   GameDate                        341155 non-null  object \n",
      " 2   Quarter                         341155 non-null  float64\n",
      " 3   Minute                          341155 non-null  float64\n",
      " 4   Second                          341155 non-null  float64\n",
      " 5   OffenseTeam                     319132 non-null  object \n",
      " 6   DefenseTeam                     335058 non-null  object \n",
      " 7   Down                            341155 non-null  float64\n",
      " 8   ToGo                            341155 non-null  float64\n",
      " 9   YardLine                        341155 non-null  float64\n",
      " 10  SeriesFirstDown                 341155 non-null  float64\n",
      " 11  NextScore                       341155 non-null  float64\n",
      " 12  Description                     341151 non-null  object \n",
      " 13  TeamWin                         341155 non-null  float64\n",
      " 14  SeasonYear                      341155 non-null  float64\n",
      " 15  Yards                           341155 non-null  float64\n",
      " 16  Formation                       335115 non-null  object \n",
      " 17  PlayType                        328767 non-null  object \n",
      " 18  IsRush                          341155 non-null  float64\n",
      " 19  IsPass                          341155 non-null  float64\n",
      " 20  IsIncomplete                    341155 non-null  float64\n",
      " 21  IsTouchdown                     341155 non-null  float64\n",
      " 22  PassType                        141022 non-null  object \n",
      " 23  IsSack                          341155 non-null  float64\n",
      " 24  IsChallenge                     341155 non-null  float64\n",
      " 25  IsChallengeReversed             341155 non-null  float64\n",
      " 26  IsMeasurement                   341155 non-null  float64\n",
      " 27  IsInterception                  341155 non-null  float64\n",
      " 28  IsFumble                        341155 non-null  float64\n",
      " 29  IsPenalty                       341155 non-null  float64\n",
      " 30  IsTwoPointConversion            341155 non-null  float64\n",
      " 31  IsTwoPointConversionSuccessful  341155 non-null  float64\n",
      " 32  RushDirection                   93024 non-null   object \n",
      " 33  YardLineFixed                   341155 non-null  float64\n",
      " 34  YardLineDirection               341155 non-null  object \n",
      " 35  IsPenaltyAccepted               341155 non-null  float64\n",
      " 36  PenaltyTeam                     28479 non-null   object \n",
      " 37  IsNoPlay                        341155 non-null  float64\n",
      " 38  PenaltyType                     28487 non-null   object \n",
      " 39  PenaltyYards                    344967 non-null  int64  \n",
      " 40  Unnamed: 0                      3812 non-null    float64\n",
      " 41  Score                           344967 non-null  int64  \n",
      " 42  PassingYards                    344967 non-null  float64\n",
      " 43  RunningYards                    344967 non-null  float64\n",
      " 44  Penalties                       344967 non-null  int64  \n",
      " 45  Turnovers                       344967 non-null  int64  \n",
      " 46  Win_Lose                        3812 non-null    object \n",
      "dtypes: float64(30), int64(5), object(12)\n",
      "memory usage: 123.7+ MB\n"
     ]
    }
   ],
   "source": [
    "newdf.info()"
   ]
  },
  {
   "cell_type": "markdown",
   "id": "6a0fc8f9",
   "metadata": {},
   "source": [
    "## Group scores, yards, turnovers, penalties by GameId"
   ]
  },
  {
   "cell_type": "code",
   "execution_count": 22,
   "id": "d9f79137",
   "metadata": {},
   "outputs": [],
   "source": [
    "groupbydf = newdf.groupby(['GameId','OffenseTeam'], as_index = False).agg(\n",
    "    Score = ('Score','sum'),\n",
    "    PassingYards = ('PassingYards', 'sum'),\n",
    "    RunningYards = ('RunningYards', 'sum'), \n",
    "    PenaltyYards = ('PenaltyYards', 'sum'), \n",
    "    Penalties = ('Penalties', 'sum'),\n",
    "    Turnovers = ('Turnovers', 'sum')\n",
    ")"
   ]
  },
  {
   "cell_type": "code",
   "execution_count": 23,
   "id": "14bea507",
   "metadata": {},
   "outputs": [
    {
     "data": {
      "text/html": [
       "<div>\n",
       "<style scoped>\n",
       "    .dataframe tbody tr th:only-of-type {\n",
       "        vertical-align: middle;\n",
       "    }\n",
       "\n",
       "    .dataframe tbody tr th {\n",
       "        vertical-align: top;\n",
       "    }\n",
       "\n",
       "    .dataframe thead th {\n",
       "        text-align: right;\n",
       "    }\n",
       "</style>\n",
       "<table border=\"1\" class=\"dataframe\">\n",
       "  <thead>\n",
       "    <tr style=\"text-align: right;\">\n",
       "      <th></th>\n",
       "      <th>GameId</th>\n",
       "      <th>OffenseTeam</th>\n",
       "      <th>Score</th>\n",
       "      <th>PassingYards</th>\n",
       "      <th>RunningYards</th>\n",
       "      <th>PenaltyYards</th>\n",
       "      <th>Penalties</th>\n",
       "      <th>Turnovers</th>\n",
       "    </tr>\n",
       "  </thead>\n",
       "  <tbody>\n",
       "    <tr>\n",
       "      <th>0</th>\n",
       "      <td>2014090400</td>\n",
       "      <td>GB</td>\n",
       "      <td>18</td>\n",
       "      <td>210.0</td>\n",
       "      <td>80.0</td>\n",
       "      <td>79</td>\n",
       "      <td>5</td>\n",
       "      <td>2</td>\n",
       "    </tr>\n",
       "    <tr>\n",
       "      <th>1</th>\n",
       "      <td>2014090400</td>\n",
       "      <td>SEA</td>\n",
       "      <td>34</td>\n",
       "      <td>191.0</td>\n",
       "      <td>210.0</td>\n",
       "      <td>55</td>\n",
       "      <td>7</td>\n",
       "      <td>1</td>\n",
       "    </tr>\n",
       "    <tr>\n",
       "      <th>2</th>\n",
       "      <td>2014090700</td>\n",
       "      <td>ATL</td>\n",
       "      <td>37</td>\n",
       "      <td>448.0</td>\n",
       "      <td>123.0</td>\n",
       "      <td>47</td>\n",
       "      <td>6</td>\n",
       "      <td>1</td>\n",
       "    </tr>\n",
       "    <tr>\n",
       "      <th>3</th>\n",
       "      <td>2014090700</td>\n",
       "      <td>NO</td>\n",
       "      <td>34</td>\n",
       "      <td>333.0</td>\n",
       "      <td>139.0</td>\n",
       "      <td>76</td>\n",
       "      <td>7</td>\n",
       "      <td>2</td>\n",
       "    </tr>\n",
       "    <tr>\n",
       "      <th>4</th>\n",
       "      <td>2014090701</td>\n",
       "      <td>BAL</td>\n",
       "      <td>16</td>\n",
       "      <td>346.0</td>\n",
       "      <td>91.0</td>\n",
       "      <td>40</td>\n",
       "      <td>3</td>\n",
       "      <td>2</td>\n",
       "    </tr>\n",
       "  </tbody>\n",
       "</table>\n",
       "</div>"
      ],
      "text/plain": [
       "       GameId OffenseTeam  Score  PassingYards  RunningYards  PenaltyYards  \\\n",
       "0  2014090400          GB     18         210.0          80.0            79   \n",
       "1  2014090400         SEA     34         191.0         210.0            55   \n",
       "2  2014090700         ATL     37         448.0         123.0            47   \n",
       "3  2014090700          NO     34         333.0         139.0            76   \n",
       "4  2014090701         BAL     16         346.0          91.0            40   \n",
       "\n",
       "   Penalties  Turnovers  \n",
       "0          5          2  \n",
       "1          7          1  \n",
       "2          6          1  \n",
       "3          7          2  \n",
       "4          3          2  "
      ]
     },
     "execution_count": 23,
     "metadata": {},
     "output_type": "execute_result"
    }
   ],
   "source": [
    "groupbydf.head()"
   ]
  },
  {
   "cell_type": "markdown",
   "id": "f6ff2e31",
   "metadata": {},
   "source": [
    "## Order DataFrame"
   ]
  },
  {
   "cell_type": "code",
   "execution_count": 24,
   "id": "522b72a7",
   "metadata": {},
   "outputs": [],
   "source": [
    "groupbysortdf = groupbydf.sort_values(by=['GameId','Score'], ascending=[True,False])"
   ]
  },
  {
   "cell_type": "markdown",
   "id": "ab645f46",
   "metadata": {},
   "source": [
    "## Win Loss Column"
   ]
  },
  {
   "cell_type": "code",
   "execution_count": 25,
   "id": "54720c7d",
   "metadata": {},
   "outputs": [],
   "source": [
    "count = 0\n",
    "win_loss = []\n",
    "\n",
    "for x in range(0,len(groupbydf)):\n",
    "    if count%2 == 0:\n",
    "        win_loss.append('Win')\n",
    "    else:\n",
    "        win_loss.append('Lose')\n",
    "    count += 1\n",
    "    \n",
    "#print(win_loss)"
   ]
  },
  {
   "cell_type": "code",
   "execution_count": 26,
   "id": "c9083947",
   "metadata": {},
   "outputs": [],
   "source": [
    "groupbysortdf[\"Win_Lose\"] = win_loss"
   ]
  },
  {
   "cell_type": "code",
   "execution_count": 27,
   "id": "e00c874a",
   "metadata": {},
   "outputs": [
    {
     "data": {
      "text/html": [
       "<div>\n",
       "<style scoped>\n",
       "    .dataframe tbody tr th:only-of-type {\n",
       "        vertical-align: middle;\n",
       "    }\n",
       "\n",
       "    .dataframe tbody tr th {\n",
       "        vertical-align: top;\n",
       "    }\n",
       "\n",
       "    .dataframe thead th {\n",
       "        text-align: right;\n",
       "    }\n",
       "</style>\n",
       "<table border=\"1\" class=\"dataframe\">\n",
       "  <thead>\n",
       "    <tr style=\"text-align: right;\">\n",
       "      <th></th>\n",
       "      <th>GameId</th>\n",
       "      <th>OffenseTeam</th>\n",
       "      <th>Score</th>\n",
       "      <th>PassingYards</th>\n",
       "      <th>RunningYards</th>\n",
       "      <th>PenaltyYards</th>\n",
       "      <th>Penalties</th>\n",
       "      <th>Turnovers</th>\n",
       "      <th>Win_Lose</th>\n",
       "    </tr>\n",
       "  </thead>\n",
       "  <tbody>\n",
       "    <tr>\n",
       "      <th>1</th>\n",
       "      <td>2014090400</td>\n",
       "      <td>SEA</td>\n",
       "      <td>34</td>\n",
       "      <td>191.0</td>\n",
       "      <td>210.0</td>\n",
       "      <td>55</td>\n",
       "      <td>7</td>\n",
       "      <td>1</td>\n",
       "      <td>Win</td>\n",
       "    </tr>\n",
       "    <tr>\n",
       "      <th>0</th>\n",
       "      <td>2014090400</td>\n",
       "      <td>GB</td>\n",
       "      <td>18</td>\n",
       "      <td>210.0</td>\n",
       "      <td>80.0</td>\n",
       "      <td>79</td>\n",
       "      <td>5</td>\n",
       "      <td>2</td>\n",
       "      <td>Lose</td>\n",
       "    </tr>\n",
       "    <tr>\n",
       "      <th>2</th>\n",
       "      <td>2014090700</td>\n",
       "      <td>ATL</td>\n",
       "      <td>37</td>\n",
       "      <td>448.0</td>\n",
       "      <td>123.0</td>\n",
       "      <td>47</td>\n",
       "      <td>6</td>\n",
       "      <td>1</td>\n",
       "      <td>Win</td>\n",
       "    </tr>\n",
       "    <tr>\n",
       "      <th>3</th>\n",
       "      <td>2014090700</td>\n",
       "      <td>NO</td>\n",
       "      <td>34</td>\n",
       "      <td>333.0</td>\n",
       "      <td>139.0</td>\n",
       "      <td>76</td>\n",
       "      <td>7</td>\n",
       "      <td>2</td>\n",
       "      <td>Lose</td>\n",
       "    </tr>\n",
       "    <tr>\n",
       "      <th>5</th>\n",
       "      <td>2014090701</td>\n",
       "      <td>CIN</td>\n",
       "      <td>23</td>\n",
       "      <td>301.0</td>\n",
       "      <td>81.0</td>\n",
       "      <td>34</td>\n",
       "      <td>4</td>\n",
       "      <td>0</td>\n",
       "      <td>Win</td>\n",
       "    </tr>\n",
       "  </tbody>\n",
       "</table>\n",
       "</div>"
      ],
      "text/plain": [
       "       GameId OffenseTeam  Score  PassingYards  RunningYards  PenaltyYards  \\\n",
       "1  2014090400         SEA     34         191.0         210.0            55   \n",
       "0  2014090400          GB     18         210.0          80.0            79   \n",
       "2  2014090700         ATL     37         448.0         123.0            47   \n",
       "3  2014090700          NO     34         333.0         139.0            76   \n",
       "5  2014090701         CIN     23         301.0          81.0            34   \n",
       "\n",
       "   Penalties  Turnovers Win_Lose  \n",
       "1          7          1      Win  \n",
       "0          5          2     Lose  \n",
       "2          6          1      Win  \n",
       "3          7          2     Lose  \n",
       "5          4          0      Win  "
      ]
     },
     "execution_count": 27,
     "metadata": {},
     "output_type": "execute_result"
    }
   ],
   "source": [
    "groupbysortdf.head()"
   ]
  },
  {
   "cell_type": "markdown",
   "id": "75ce1270",
   "metadata": {},
   "source": [
    "## Stats "
   ]
  },
  {
   "cell_type": "code",
   "execution_count": 28,
   "id": "4359cad3",
   "metadata": {},
   "outputs": [],
   "source": [
    "loss_filter = groupbysortdf[\"Win_Lose\"] == \"Lose\"\n",
    "win_filter = groupbysortdf[\"Win_Lose\"] == \"Win\""
   ]
  },
  {
   "cell_type": "code",
   "execution_count": 29,
   "id": "518d02f6",
   "metadata": {},
   "outputs": [
    {
     "data": {
      "text/html": [
       "<div>\n",
       "<style scoped>\n",
       "    .dataframe tbody tr th:only-of-type {\n",
       "        vertical-align: middle;\n",
       "    }\n",
       "\n",
       "    .dataframe tbody tr th {\n",
       "        vertical-align: top;\n",
       "    }\n",
       "\n",
       "    .dataframe thead th {\n",
       "        text-align: right;\n",
       "    }\n",
       "</style>\n",
       "<table border=\"1\" class=\"dataframe\">\n",
       "  <thead>\n",
       "    <tr style=\"text-align: right;\">\n",
       "      <th></th>\n",
       "      <th>GameId</th>\n",
       "      <th>Score</th>\n",
       "      <th>PassingYards</th>\n",
       "      <th>RunningYards</th>\n",
       "      <th>PenaltyYards</th>\n",
       "      <th>Penalties</th>\n",
       "      <th>Turnovers</th>\n",
       "    </tr>\n",
       "  </thead>\n",
       "  <tbody>\n",
       "    <tr>\n",
       "      <th>count</th>\n",
       "      <td>1.906000e+03</td>\n",
       "      <td>1906.000000</td>\n",
       "      <td>1906.000000</td>\n",
       "      <td>1906.000000</td>\n",
       "      <td>1906.000000</td>\n",
       "      <td>1906.000000</td>\n",
       "      <td>1906.000000</td>\n",
       "    </tr>\n",
       "    <tr>\n",
       "      <th>mean</th>\n",
       "      <td>2.017394e+09</td>\n",
       "      <td>18.013641</td>\n",
       "      <td>259.719307</td>\n",
       "      <td>94.645331</td>\n",
       "      <td>53.144281</td>\n",
       "      <td>6.378279</td>\n",
       "      <td>2.486359</td>\n",
       "    </tr>\n",
       "    <tr>\n",
       "      <th>std</th>\n",
       "      <td>2.190359e+06</td>\n",
       "      <td>8.235562</td>\n",
       "      <td>80.251183</td>\n",
       "      <td>43.054798</td>\n",
       "      <td>26.818113</td>\n",
       "      <td>2.840304</td>\n",
       "      <td>1.552941</td>\n",
       "    </tr>\n",
       "    <tr>\n",
       "      <th>min</th>\n",
       "      <td>2.014090e+09</td>\n",
       "      <td>0.000000</td>\n",
       "      <td>30.000000</td>\n",
       "      <td>0.000000</td>\n",
       "      <td>0.000000</td>\n",
       "      <td>0.000000</td>\n",
       "      <td>0.000000</td>\n",
       "    </tr>\n",
       "    <tr>\n",
       "      <th>25%</th>\n",
       "      <td>2.015122e+09</td>\n",
       "      <td>13.000000</td>\n",
       "      <td>204.000000</td>\n",
       "      <td>65.000000</td>\n",
       "      <td>34.000000</td>\n",
       "      <td>4.000000</td>\n",
       "      <td>1.000000</td>\n",
       "    </tr>\n",
       "    <tr>\n",
       "      <th>50%</th>\n",
       "      <td>2.017120e+09</td>\n",
       "      <td>17.000000</td>\n",
       "      <td>256.000000</td>\n",
       "      <td>89.500000</td>\n",
       "      <td>50.000000</td>\n",
       "      <td>6.000000</td>\n",
       "      <td>2.000000</td>\n",
       "    </tr>\n",
       "    <tr>\n",
       "      <th>75%</th>\n",
       "      <td>2.019112e+09</td>\n",
       "      <td>23.000000</td>\n",
       "      <td>310.000000</td>\n",
       "      <td>119.000000</td>\n",
       "      <td>70.000000</td>\n",
       "      <td>8.000000</td>\n",
       "      <td>3.000000</td>\n",
       "    </tr>\n",
       "    <tr>\n",
       "      <th>max</th>\n",
       "      <td>2.021111e+09</td>\n",
       "      <td>48.000000</td>\n",
       "      <td>600.000000</td>\n",
       "      <td>358.000000</td>\n",
       "      <td>169.000000</td>\n",
       "      <td>19.000000</td>\n",
       "      <td>9.000000</td>\n",
       "    </tr>\n",
       "  </tbody>\n",
       "</table>\n",
       "</div>"
      ],
      "text/plain": [
       "             GameId        Score  PassingYards  RunningYards  PenaltyYards  \\\n",
       "count  1.906000e+03  1906.000000   1906.000000   1906.000000   1906.000000   \n",
       "mean   2.017394e+09    18.013641    259.719307     94.645331     53.144281   \n",
       "std    2.190359e+06     8.235562     80.251183     43.054798     26.818113   \n",
       "min    2.014090e+09     0.000000     30.000000      0.000000      0.000000   \n",
       "25%    2.015122e+09    13.000000    204.000000     65.000000     34.000000   \n",
       "50%    2.017120e+09    17.000000    256.000000     89.500000     50.000000   \n",
       "75%    2.019112e+09    23.000000    310.000000    119.000000     70.000000   \n",
       "max    2.021111e+09    48.000000    600.000000    358.000000    169.000000   \n",
       "\n",
       "         Penalties    Turnovers  \n",
       "count  1906.000000  1906.000000  \n",
       "mean      6.378279     2.486359  \n",
       "std       2.840304     1.552941  \n",
       "min       0.000000     0.000000  \n",
       "25%       4.000000     1.000000  \n",
       "50%       6.000000     2.000000  \n",
       "75%       8.000000     3.000000  \n",
       "max      19.000000     9.000000  "
      ]
     },
     "execution_count": 29,
     "metadata": {},
     "output_type": "execute_result"
    }
   ],
   "source": [
    "loss_df = groupbysortdf.where(loss_filter)\n",
    "loss_df.describe()"
   ]
  },
  {
   "cell_type": "code",
   "execution_count": 30,
   "id": "d4fccca3",
   "metadata": {
    "scrolled": true
   },
   "outputs": [
    {
     "data": {
      "text/html": [
       "<div>\n",
       "<style scoped>\n",
       "    .dataframe tbody tr th:only-of-type {\n",
       "        vertical-align: middle;\n",
       "    }\n",
       "\n",
       "    .dataframe tbody tr th {\n",
       "        vertical-align: top;\n",
       "    }\n",
       "\n",
       "    .dataframe thead th {\n",
       "        text-align: right;\n",
       "    }\n",
       "</style>\n",
       "<table border=\"1\" class=\"dataframe\">\n",
       "  <thead>\n",
       "    <tr style=\"text-align: right;\">\n",
       "      <th></th>\n",
       "      <th>GameId</th>\n",
       "      <th>Score</th>\n",
       "      <th>PassingYards</th>\n",
       "      <th>RunningYards</th>\n",
       "      <th>PenaltyYards</th>\n",
       "      <th>Penalties</th>\n",
       "      <th>Turnovers</th>\n",
       "    </tr>\n",
       "  </thead>\n",
       "  <tbody>\n",
       "    <tr>\n",
       "      <th>count</th>\n",
       "      <td>1.906000e+03</td>\n",
       "      <td>1906.000000</td>\n",
       "      <td>1906.000000</td>\n",
       "      <td>1906.000000</td>\n",
       "      <td>1906.000000</td>\n",
       "      <td>1906.000000</td>\n",
       "      <td>1906.000000</td>\n",
       "    </tr>\n",
       "    <tr>\n",
       "      <th>mean</th>\n",
       "      <td>2.017394e+09</td>\n",
       "      <td>29.061910</td>\n",
       "      <td>272.967996</td>\n",
       "      <td>130.395068</td>\n",
       "      <td>55.615425</td>\n",
       "      <td>6.697272</td>\n",
       "      <td>1.734523</td>\n",
       "    </tr>\n",
       "    <tr>\n",
       "      <th>std</th>\n",
       "      <td>2.190359e+06</td>\n",
       "      <td>8.527451</td>\n",
       "      <td>78.194679</td>\n",
       "      <td>52.563250</td>\n",
       "      <td>27.429079</td>\n",
       "      <td>2.839016</td>\n",
       "      <td>1.353845</td>\n",
       "    </tr>\n",
       "    <tr>\n",
       "      <th>min</th>\n",
       "      <td>2.014090e+09</td>\n",
       "      <td>6.000000</td>\n",
       "      <td>75.000000</td>\n",
       "      <td>7.000000</td>\n",
       "      <td>0.000000</td>\n",
       "      <td>0.000000</td>\n",
       "      <td>0.000000</td>\n",
       "    </tr>\n",
       "    <tr>\n",
       "      <th>25%</th>\n",
       "      <td>2.015122e+09</td>\n",
       "      <td>23.000000</td>\n",
       "      <td>218.250000</td>\n",
       "      <td>94.000000</td>\n",
       "      <td>35.000000</td>\n",
       "      <td>5.000000</td>\n",
       "      <td>1.000000</td>\n",
       "    </tr>\n",
       "    <tr>\n",
       "      <th>50%</th>\n",
       "      <td>2.017120e+09</td>\n",
       "      <td>28.000000</td>\n",
       "      <td>269.000000</td>\n",
       "      <td>124.000000</td>\n",
       "      <td>52.000000</td>\n",
       "      <td>6.000000</td>\n",
       "      <td>1.000000</td>\n",
       "    </tr>\n",
       "    <tr>\n",
       "      <th>75%</th>\n",
       "      <td>2.019112e+09</td>\n",
       "      <td>35.000000</td>\n",
       "      <td>323.000000</td>\n",
       "      <td>161.000000</td>\n",
       "      <td>73.000000</td>\n",
       "      <td>9.000000</td>\n",
       "      <td>3.000000</td>\n",
       "    </tr>\n",
       "    <tr>\n",
       "      <th>max</th>\n",
       "      <td>2.021111e+09</td>\n",
       "      <td>63.000000</td>\n",
       "      <td>808.000000</td>\n",
       "      <td>404.000000</td>\n",
       "      <td>168.000000</td>\n",
       "      <td>18.000000</td>\n",
       "      <td>7.000000</td>\n",
       "    </tr>\n",
       "  </tbody>\n",
       "</table>\n",
       "</div>"
      ],
      "text/plain": [
       "             GameId        Score  PassingYards  RunningYards  PenaltyYards  \\\n",
       "count  1.906000e+03  1906.000000   1906.000000   1906.000000   1906.000000   \n",
       "mean   2.017394e+09    29.061910    272.967996    130.395068     55.615425   \n",
       "std    2.190359e+06     8.527451     78.194679     52.563250     27.429079   \n",
       "min    2.014090e+09     6.000000     75.000000      7.000000      0.000000   \n",
       "25%    2.015122e+09    23.000000    218.250000     94.000000     35.000000   \n",
       "50%    2.017120e+09    28.000000    269.000000    124.000000     52.000000   \n",
       "75%    2.019112e+09    35.000000    323.000000    161.000000     73.000000   \n",
       "max    2.021111e+09    63.000000    808.000000    404.000000    168.000000   \n",
       "\n",
       "         Penalties    Turnovers  \n",
       "count  1906.000000  1906.000000  \n",
       "mean      6.697272     1.734523  \n",
       "std       2.839016     1.353845  \n",
       "min       0.000000     0.000000  \n",
       "25%       5.000000     1.000000  \n",
       "50%       6.000000     1.000000  \n",
       "75%       9.000000     3.000000  \n",
       "max      18.000000     7.000000  "
      ]
     },
     "execution_count": 30,
     "metadata": {},
     "output_type": "execute_result"
    }
   ],
   "source": [
    "win_df = groupbysortdf.where(win_filter)\n",
    "win_df.describe()"
   ]
  },
  {
   "cell_type": "code",
   "execution_count": 28,
   "id": "72085836",
   "metadata": {},
   "outputs": [],
   "source": [
    "import matplotlib.pyplot as plt"
   ]
  },
  {
   "cell_type": "code",
   "execution_count": 29,
   "id": "db8d267e",
   "metadata": {},
   "outputs": [
    {
     "data": {
      "image/png": "[encoded data removed]",
      "text/plain": [
       "<Figure size 432x288 with 1 Axes>"
      ]
     },
     "metadata": {
      "needs_background": "light"
     },
     "output_type": "display_data"
    }
   ],
   "source": [
    "fig, ax = plt.subplots()\n",
    "ax.boxplot([win_df[\"PassingYards\"].dropna(),loss_df[\"PassingYards\"].dropna()])\n",
    "plt.xticks([1, 2], [\"Win\", \"Lose\"], rotation=0)\n",
    "plt.title(\"Passing Yards\")\n",
    "plt.show()"
   ]
  },
  {
   "cell_type": "code",
   "execution_count": 30,
   "id": "10789ddf",
   "metadata": {},
   "outputs": [
    {
     "data": {
      "image/png": "[encoded data removed]",
      "text/plain": [
       "<Figure size 432x288 with 1 Axes>"
      ]
     },
     "metadata": {
      "needs_background": "light"
     },
     "output_type": "display_data"
    }
   ],
   "source": [
    "fig, ax = plt.subplots()\n",
    "ax.boxplot([win_df[\"RunningYards\"].dropna(),loss_df[\"RunningYards\"].dropna()])\n",
    "plt.xticks([1, 2], [\"Win\", \"Lose\"], rotation=0)\n",
    "plt.title(\"Running Yards\")\n",
    "plt.show()"
   ]
  },
  {
   "cell_type": "code",
   "execution_count": 31,
   "id": "fab695a7",
   "metadata": {},
   "outputs": [
    {
     "data": {
      "image/png": "[encoded data removed]",
      "text/plain": [
       "<Figure size 432x288 with 1 Axes>"
      ]
     },
     "metadata": {
      "needs_background": "light"
     },
     "output_type": "display_data"
    }
   ],
   "source": [
    "fig, ax = plt.subplots()\n",
    "ax.boxplot([win_df[\"PenaltyYards\"].dropna(),loss_df[\"PenaltyYards\"].dropna()])\n",
    "plt.xticks([1, 2], [\"Win\", \"Lose\"], rotation=0)\n",
    "plt.title(\"Penalty Yards\")\n",
    "plt.show()"
   ]
  },
  {
   "cell_type": "code",
   "execution_count": 32,
   "id": "e7d4b375",
   "metadata": {},
   "outputs": [
    {
     "data": {
      "image/png": "[encoded data removed]",
      "text/plain": [
       "<Figure size 432x288 with 1 Axes>"
      ]
     },
     "metadata": {
      "needs_background": "light"
     },
     "output_type": "display_data"
    }
   ],
   "source": [
    "fig, ax = plt.subplots()\n",
    "ax.boxplot([win_df[\"Penalties\"].dropna(),loss_df[\"Penalties\"].dropna()])\n",
    "plt.xticks([1, 2], [\"Win\", \"Lose\"], rotation=0)\n",
    "plt.title(\"Penalties\")\n",
    "plt.show()"
   ]
  },
  {
   "cell_type": "code",
   "execution_count": 33,
   "id": "fcfbe994",
   "metadata": {},
   "outputs": [
    {
     "data": {
      "image/png": "[encoded data removed]",
      "text/plain": [
       "<Figure size 432x288 with 1 Axes>"
      ]
     },
     "metadata": {
      "needs_background": "light"
     },
     "output_type": "display_data"
    }
   ],
   "source": [
    "fig, ax = plt.subplots()\n",
    "ax.boxplot([win_df[\"Turnovers\"].dropna(),loss_df[\"Turnovers\"].dropna()])\n",
    "plt.xticks([1, 2], [\"Win\", \"Lose\"], rotation=0)\n",
    "plt.title(\"Turnovers\")\n",
    "plt.show()"
   ]
  },
  {
   "cell_type": "markdown",
   "id": "5b815ccc",
   "metadata": {},
   "source": [
    "## Turn Dataframe into CSV"
   ]
  },
  {
   "cell_type": "code",
   "execution_count": 34,
   "id": "08426464",
   "metadata": {},
   "outputs": [],
   "source": [
    "groupbysortdf.to_csv(\"NFL_Grouped_Stats_Dataset_for_Model.csv\")"
   ]
  },
  {
   "cell_type": "code",
   "execution_count": null,
   "id": "d73fce9d",
   "metadata": {},
   "outputs": [],
   "source": []
  }
 ],
 "metadata": {
  "kernelspec": {
   "display_name": "Python 3",
   "language": "python",
   "name": "python3"
  },
  "language_info": {
   "codemirror_mode": {
    "name": "ipython",
    "version": 3
   },
   "file_extension": ".py",
   "mimetype": "text/x-python",
   "name": "python",
   "nbconvert_exporter": "python",
   "pygments_lexer": "ipython3",
   "version": "3.8.8"
  }
 },
 "nbformat": 4,
 "nbformat_minor": 5
}
