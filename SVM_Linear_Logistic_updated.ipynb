{
  "nbformat": 4,
  "nbformat_minor": 0,
  "metadata": {
    "colab": {
      "provenance": [],
      "collapsed_sections": [
        "Cy9WwErQ_pCt",
        "DQKcXXql_sgW",
        "y7c47zTSOXIT"
      ]
    },
    "kernelspec": {
      "name": "python3",
      "display_name": "Python 3"
    },
    "language_info": {
      "name": "python"
    }
  },
  "cells": [
    {
      "cell_type": "markdown",
      "source": [
        "##SVM"
      ],
      "metadata": {
        "id": "Cy9WwErQ_pCt"
      }
    },
    {
      "cell_type": "code",
      "source": [
        "import numpy as np\n",
        "import matplotlib.pyplot as plt\n",
        "import pandas as pd\n",
        "from sklearn.model_selection import train_test_split\n",
        "from sklearn.metrics import classification_report, confusion_matrix, accuracy_score\n",
        "from sklearn.svm import SVC\n",
        "import seaborn as sns"
      ],
      "metadata": {
        "id": "K7p82AuEB0-_"
      },
      "execution_count": 1,
      "outputs": []
    },
    {
      "cell_type": "code",
      "source": [
        "def svm_function(X, y):\n",
        "  X_train, X_test, y_train, y_test = train_test_split(X, y, test_size = 0.20)\n",
        "  svclassifier = SVC(kernel='poly', degree=8)\n",
        "  svclassifier.fit(X_train, y_train)\n",
        "  y_pred = svclassifier.predict(X_test)\n",
        "  print('Accuracy\\n',accuracy_score(y_test, y_pred))\n",
        "  print('\\nSVM confusion matrix\\n', confusion_matrix(y_test, y_pred))\n",
        "  print('\\nSVM classification_report\\n', classification_report(y_test, y_pred))"
      ],
      "metadata": {
        "id": "vtmaRWd4ld9c"
      },
      "execution_count": 21,
      "outputs": []
    },
    {
      "cell_type": "code",
      "source": [
        "import pandas as pd\n",
        "\n",
        "# Read dataset to pandas dataframe\n",
        "dataset = pd.read_csv(\"/content/NFL_Grouped_Stats_Dataset_for_Model.csv\")\n",
        "X = dataset[['PassingYards','RunningYards','PenaltyYards','Penalties','Turnovers']]\n",
        "y = dataset['Win_Lose']\n",
        "svm_function(X, y)\n"
      ],
      "metadata": {
        "id": "VGgX1bpKnplO",
        "colab": {
          "base_uri": "https://localhost:8080/"
        },
        "outputId": "f896391e-421c-418b-eec2-868cd54e55e8"
      },
      "execution_count": 22,
      "outputs": [
        {
          "output_type": "stream",
          "name": "stdout",
          "text": [
            "Accuracy\n",
            " 0.6120576671035387\n",
            "\n",
            "SVM confusion matrix\n",
            " [[367  36]\n",
            " [260 100]]\n",
            "\n",
            "SVM classification_report\n",
            "               precision    recall  f1-score   support\n",
            "\n",
            "        Lose       0.59      0.91      0.71       403\n",
            "         Win       0.74      0.28      0.40       360\n",
            "\n",
            "    accuracy                           0.61       763\n",
            "   macro avg       0.66      0.59      0.56       763\n",
            "weighted avg       0.66      0.61      0.57       763\n",
            "\n"
          ]
        }
      ]
    },
    {
      "cell_type": "code",
      "source": [],
      "metadata": {
        "id": "2DCxpRwUpr4h"
      },
      "execution_count": null,
      "outputs": []
    },
    {
      "cell_type": "markdown",
      "source": [
        "##Linear Regressions"
      ],
      "metadata": {
        "id": "DQKcXXql_sgW"
      }
    },
    {
      "cell_type": "code",
      "source": [
        "from sklearn.linear_model import LinearRegression\n",
        "from sklearn.metrics import mean_absolute_error, mean_squared_error\n",
        "from sklearn.model_selection import train_test_split\n",
        "from sklearn.metrics import classification_report, confusion_matrix\n",
        "from sklearn.metrics import roc_auc_score\n",
        "from sklearn.metrics import roc_curve\n",
        "import numpy as np\n",
        "import pandas as pd\n"
      ],
      "metadata": {
        "id": "Cw1q3cDTBuGZ"
      },
      "execution_count": null,
      "outputs": []
    },
    {
      "cell_type": "code",
      "source": [
        "def linear_regression(X, y):\n",
        "  X_train, X_test, y_train, y_test = train_test_split(X, y, test_size = 0.2)\n",
        "  regressor = LinearRegression()\n",
        "  regressor.fit(X_train, y_train)\n",
        "  y_pred = regressor.predict(X_test)\n",
        "  mae = mean_absolute_error(y_test, y_pred)\n",
        "  mse = mean_squared_error(y_test, y_pred)\n",
        "  rmse = np.sqrt(mse)\n",
        "  acc = regressor.score(X, y) \n",
        "  print(f'Accuracy: {acc:.2f}')\n",
        "  print(f'Mean absolute error: {mae:.2f}')\n",
        "  print(f'Mean squared error: {mse:.2f}')\n",
        "  print(f'Root mean squared error: {rmse:.2f}')\n",
        "  "
      ],
      "metadata": {
        "id": "NvFOUQriBuTt"
      },
      "execution_count": null,
      "outputs": []
    },
    {
      "cell_type": "code",
      "source": [
        " "
      ],
      "metadata": {
        "id": "6Qc-rGygBuJx"
      },
      "execution_count": null,
      "outputs": []
    },
    {
      "cell_type": "code",
      "source": [
        "def win_loss_to_numeric(x):\n",
        "  if x=='Lose':\n",
        "    return 0\n",
        "  if x=='Win':\n",
        "    return 1\n",
        "\n",
        "dataset['Win_Lose_Num'] = dataset['Win_Lose'].apply(win_loss_to_numeric)\n",
        "y= dataset['Win_Lose_Num']\n",
        "X= dataset[['PassingYards','RunningYards','PenaltyYards','Penalties','Turnovers']]\n",
        "linear_regression(X, y)\n"
      ],
      "metadata": {
        "colab": {
          "base_uri": "https://localhost:8080/"
        },
        "id": "OGPXzdJMMx1k",
        "outputId": "c4ebbb76-94f7-41d2-af1a-f5bf57a8bf48"
      },
      "execution_count": null,
      "outputs": [
        {
          "output_type": "stream",
          "name": "stdout",
          "text": [
            "Accuracy: 0.20\n",
            "Mean absolute error: 0.41\n",
            "Mean squared error: 0.21\n",
            "Root mean squared error: 0.45\n"
          ]
        }
      ]
    },
    {
      "cell_type": "markdown",
      "source": [
        "##Logistic Regression"
      ],
      "metadata": {
        "id": "y7c47zTSOXIT"
      }
    },
    {
      "cell_type": "code",
      "source": [
        "import numpy as np\n",
        "from sklearn.linear_model import LogisticRegression\n",
        "from sklearn.metrics import classification_report, confusion_matrix\n",
        "import seaborn as sns"
      ],
      "metadata": {
        "id": "aHGXPeDbOZ81"
      },
      "execution_count": null,
      "outputs": []
    },
    {
      "cell_type": "code",
      "source": [
        "def logistic_regression(X, y):\n",
        "  # Step 3: Create a model and train it\n",
        "  model = LogisticRegression(solver='liblinear', C=10.0, random_state=0)\n",
        "  model.fit(X, y)\n",
        "\n",
        "  # Step 4: Evaluate the model\n",
        "  #p_pred = model.predict_proba(x)\n",
        "  y_pred = model.predict(X)\n",
        "  score_ = model.score(X, y)\n",
        "  conf_m = confusion_matrix(y, y_pred)\n",
        "  report = classification_report(y, y_pred)\n",
        "\n",
        "  print('score_:', score_)\n",
        "  print('\\nLogistic Regression confusion matrix:\\n', conf_m)\n",
        "  print('\\n Logistic Regression report:\\n', report)"
      ],
      "metadata": {
        "id": "hXxkbwD6OZ_p"
      },
      "execution_count": null,
      "outputs": []
    },
    {
      "cell_type": "code",
      "source": [
        "logistic_regression(X, y)"
      ],
      "metadata": {
        "colab": {
          "base_uri": "https://localhost:8080/"
        },
        "id": "RY7n-CqkaklG",
        "outputId": "43866e13-af57-4661-e35c-21a95167cceb"
      },
      "execution_count": null,
      "outputs": [
        {
          "output_type": "stream",
          "name": "stdout",
          "text": [
            "score_: 0.69700944386149\n",
            "\n",
            "Logistic Regression confusion matrix:\n",
            " [[1331  575]\n",
            " [ 580 1326]]\n",
            "\n",
            " Logistic Regression report:\n",
            "               precision    recall  f1-score   support\n",
            "\n",
            "           0       0.70      0.70      0.70      1906\n",
            "           1       0.70      0.70      0.70      1906\n",
            "\n",
            "    accuracy                           0.70      3812\n",
            "   macro avg       0.70      0.70      0.70      3812\n",
            "weighted avg       0.70      0.70      0.70      3812\n",
            "\n"
          ]
        }
      ]
    },
    {
      "cell_type": "code",
      "source": [],
      "metadata": {
        "id": "RTPvjGaaSdNW"
      },
      "execution_count": null,
      "outputs": []
    }
  ]
}