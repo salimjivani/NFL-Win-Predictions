{
  "nbformat": 4,
  "nbformat_minor": 0,
  "metadata": {
    "colab": {
      "provenance": [],
      "collapsed_sections": []
    },
    "kernelspec": {
      "name": "python3",
      "display_name": "Python 3"
    },
    "language_info": {
      "name": "python"
    }
  },
  "cells": [
    {
      "cell_type": "markdown",
      "source": [
        "##SVM"
      ],
      "metadata": {
        "id": "Cy9WwErQ_pCt"
      }
    },
    {
      "cell_type": "code",
      "source": [
        "import numpy as np\n",
        "import matplotlib.pyplot as plt\n",
        "import pandas as pd\n",
        "from sklearn.model_selection import train_test_split\n",
        "from sklearn.metrics import classification_report, confusion_matrix, accuracy_score\n",
        "from sklearn.svm import SVC"
      ],
      "metadata": {
        "id": "K7p82AuEB0-_"
      },
      "execution_count": null,
      "outputs": []
    },
    {
      "cell_type": "markdown",
      "source": [
        "Below function performs the training and prints the required output results"
      ],
      "metadata": {
        "id": "JRxUEdTPblTr"
      }
    },
    {
      "cell_type": "code",
      "source": [
        "def svm_function(X, y):\n",
        "  X_train, X_test, y_train, y_test = train_test_split(X, y, test_size = 0.20)\n",
        "  svclassifier = SVC(kernel='poly', degree=8)\n",
        "  svclassifier.fit(X_train, y_train)\n",
        "  y_pred = svclassifier.predict(X_test)\n",
        "  #Printing the results\n",
        "  print('Accuracy\\n',accuracy_score(y_test, y_pred))\n",
        "  print('\\nSVM confusion matrix\\n', confusion_matrix(y_test, y_pred))\n",
        "  print('\\nSVM classification_report\\n', classification_report(y_test, y_pred))"
      ],
      "metadata": {
        "id": "vtmaRWd4ld9c"
      },
      "execution_count": null,
      "outputs": []
    },
    {
      "cell_type": "markdown",
      "source": [
        "##Linear Regressions"
      ],
      "metadata": {
        "id": "DQKcXXql_sgW"
      }
    },
    {
      "cell_type": "code",
      "source": [
        "from sklearn.linear_model import LinearRegression\n",
        "from sklearn.metrics import mean_absolute_error, mean_squared_error\n",
        "from sklearn.model_selection import train_test_split\n",
        "import numpy as np\n",
        "import pandas as pd\n"
      ],
      "metadata": {
        "id": "Cw1q3cDTBuGZ"
      },
      "execution_count": null,
      "outputs": []
    },
    {
      "cell_type": "markdown",
      "source": [
        "Below function performs the training and prints the required output results"
      ],
      "metadata": {
        "id": "mBwPFD12cZsA"
      }
    },
    {
      "cell_type": "code",
      "source": [
        "def linear_regression(X, y):\n",
        "  X_train, X_test, y_train, y_test = train_test_split(X, y, test_size = 0.2)\n",
        "  regressor = LinearRegression()\n",
        "  regressor.fit(X_train, y_train)\n",
        "  y_pred = regressor.predict(X_test)\n",
        "  mae = mean_absolute_error(y_test, y_pred)\n",
        "  mse = mean_squared_error(y_test, y_pred)\n",
        "  rmse = np.sqrt(mse)\n",
        "  acc = regressor.score(X, y)\n",
        "  #Printing the results\n",
        "  print(f'Accuracy: {acc:.2f}')\n",
        "  print(f'Mean absolute error: {mae:.2f}')\n",
        "  print(f'Mean squared error: {mse:.2f}')\n",
        "  print(f'Root mean squared error: {rmse:.2f}')  "
      ],
      "metadata": {
        "id": "NvFOUQriBuTt"
      },
      "execution_count": null,
      "outputs": []
    },
    {
      "cell_type": "markdown",
      "source": [
        "##Logistic Regression"
      ],
      "metadata": {
        "id": "y7c47zTSOXIT"
      }
    },
    {
      "cell_type": "code",
      "source": [
        "import numpy as np\n",
        "from sklearn.linear_model import LogisticRegression\n",
        "from sklearn.metrics import classification_report, confusion_matrix"
      ],
      "metadata": {
        "id": "aHGXPeDbOZ81"
      },
      "execution_count": null,
      "outputs": []
    },
    {
      "cell_type": "markdown",
      "source": [
        "Below function performs the training and prints the required output results"
      ],
      "metadata": {
        "id": "okfg9NhAcbhD"
      }
    },
    {
      "cell_type": "code",
      "source": [
        "def logistic_regression(X, y):\n",
        "\n",
        "  # Create a model and train it\n",
        "  model = LogisticRegression(solver='liblinear', C=10.0, random_state=0)\n",
        "  model.fit(X, y)\n",
        "\n",
        "  #Evaluate the model\n",
        "  y_pred = model.predict(X)\n",
        "  score_ = model.score(X, y)\n",
        "  conf_m = confusion_matrix(y, y_pred)\n",
        "  report = classification_report(y, y_pred)\n",
        "\n",
        "  #Printing the results\n",
        "  print('score_:', score_)\n",
        "  print('\\nLogistic Regression confusion matrix:\\n', conf_m)\n",
        "  print('\\n Logistic Regression report:\\n', report)"
      ],
      "metadata": {
        "id": "hXxkbwD6OZ_p"
      },
      "execution_count": null,
      "outputs": []
    }
  ]
}