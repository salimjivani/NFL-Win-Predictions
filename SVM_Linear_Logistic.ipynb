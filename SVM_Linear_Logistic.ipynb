{
  "nbformat": 4,
  "nbformat_minor": 0,
  "metadata": {
    "colab": {
      "provenance": [],
      "collapsed_sections": [
        "Cy9WwErQ_pCt",
        "DQKcXXql_sgW",
        "y7c47zTSOXIT"
      ]
    },
    "kernelspec": {
      "name": "python3",
      "display_name": "Python 3"
    },
    "language_info": {
      "name": "python"
    }
  },
  "cells": [
    {
      "cell_type": "markdown",
      "source": [
        "##SVM"
      ],
      "metadata": {
        "id": "Cy9WwErQ_pCt"
      }
    },
    {
      "cell_type": "code",
      "source": [
        "#importing libraries\n",
        "import numpy as np\n",
        "import matplotlib.pyplot as plt\n",
        "import pandas as pd\n",
        "from sklearn.model_selection import train_test_split\n",
        "from sklearn.metrics import classification_report, confusion_matrix, accuracy_score\n",
        "from sklearn.svm import SVC\n",
        "import seaborn as sns"
      ],
      "metadata": {
        "id": "K7p82AuEB0-_"
      },
      "execution_count": 41,
      "outputs": []
    },
    {
      "cell_type": "code",
      "source": [
        "def svm_function(X, y):\n",
        "  X_train, X_test, y_train, y_test = train_test_split(X, y, test_size = 0.20)\n",
        "  # Create a model and train it\n",
        "  svclassifier = SVC(kernel='poly', degree=8)\n",
        "  svclassifier.fit(X_train, y_train)\n",
        "  # Predict the model\n",
        "  y_pred = svclassifier.predict(X_test)\n",
        "  # Evaluate the model\n",
        "  print('Accuracy\\n',accuracy_score(y_test, y_pred))\n",
        "  print('\\nSVM confusion matrix\\n', confusion_matrix(y_test, y_pred))\n",
        "  print('\\nSVM classification_report\\n', classification_report(y_test, y_pred))"
      ],
      "metadata": {
        "id": "vtmaRWd4ld9c"
      },
      "execution_count": 42,
      "outputs": []
    },
    {
      "cell_type": "code",
      "source": [
        "# Read dataset to pandas dataframe\n",
        "dataset = pd.read_csv(\"/content/NFL_Grouped_Stats_Dataset_for_Model.csv\")\n",
        "X = dataset[['PassingYards','RunningYards','PenaltyYards','Penalties','Turnovers']]\n",
        "y = dataset['Win_Lose']\n",
        "svm_function(X, y)\n"
      ],
      "metadata": {
        "id": "VGgX1bpKnplO",
        "colab": {
          "base_uri": "https://localhost:8080/"
        },
        "outputId": "6a48889d-8cbc-4646-8aeb-0d0dc40103c3"
      },
      "execution_count": 43,
      "outputs": [
        {
          "output_type": "stream",
          "name": "stdout",
          "text": [
            "Accuracy\n",
            " 0.6212319790301442\n",
            "\n",
            "SVM confusion matrix\n",
            " [[348  34]\n",
            " [255 126]]\n",
            "\n",
            "SVM classification_report\n",
            "               precision    recall  f1-score   support\n",
            "\n",
            "        Lose       0.58      0.91      0.71       382\n",
            "         Win       0.79      0.33      0.47       381\n",
            "\n",
            "    accuracy                           0.62       763\n",
            "   macro avg       0.68      0.62      0.59       763\n",
            "weighted avg       0.68      0.62      0.59       763\n",
            "\n"
          ]
        }
      ]
    },
    {
      "cell_type": "markdown",
      "source": [
        "##Linear Regressions"
      ],
      "metadata": {
        "id": "DQKcXXql_sgW"
      }
    },
    {
      "cell_type": "code",
      "source": [
        "#importing libraries\n",
        "from sklearn.linear_model import LinearRegression\n",
        "from sklearn.metrics import mean_absolute_error, mean_squared_error\n",
        "from sklearn.model_selection import train_test_split\n",
        "from sklearn.metrics import classification_report, confusion_matrix\n",
        "from sklearn.metrics import roc_auc_score\n",
        "from sklearn.metrics import roc_curve\n",
        "import numpy as np\n",
        "import pandas as pd\n"
      ],
      "metadata": {
        "id": "Cw1q3cDTBuGZ"
      },
      "execution_count": 44,
      "outputs": []
    },
    {
      "cell_type": "code",
      "source": [
        "def linear_regression(X, y):\n",
        "  X_train, X_test, y_train, y_test = train_test_split(X, y, test_size = 0.2)\n",
        "  # Create a model and train it\n",
        "  regressor = LinearRegression()\n",
        "  regressor.fit(X_train, y_train)\n",
        "  # Predict the model\n",
        "  y_pred = regressor.predict(X_test)\n",
        "  # Evaluate the model\n",
        "  mae = mean_absolute_error(y_test, y_pred)\n",
        "  mse = mean_squared_error(y_test, y_pred)\n",
        "  rmse = np.sqrt(mse)\n",
        "  acc = regressor.score(X, y) \n",
        "  print(f'Accuracy: {acc:.2f}')\n",
        "  print(f'Mean absolute error: {mae:.2f}')\n",
        "  print(f'Mean squared error: {mse:.2f}')\n",
        "  print(f'Root mean squared error: {rmse:.2f}')\n",
        "  "
      ],
      "metadata": {
        "id": "NvFOUQriBuTt"
      },
      "execution_count": 45,
      "outputs": []
    },
    {
      "cell_type": "code",
      "source": [
        "def win_loss_to_numeric(x):\n",
        "  if x=='Lose':\n",
        "    return 0\n",
        "  if x=='Win':\n",
        "    return 1"
      ],
      "metadata": {
        "id": "OGPXzdJMMx1k"
      },
      "execution_count": 46,
      "outputs": []
    },
    {
      "cell_type": "code",
      "source": [
        "#Converting the categorical values to numeric\n",
        "dataset['Win_Lose_Num'] = dataset['Win_Lose'].apply(win_loss_to_numeric)\n",
        "y= dataset['Win_Lose_Num']\n",
        "X= dataset[['PassingYards','RunningYards','PenaltyYards','Penalties','Turnovers']]\n",
        "linear_regression(X, y)"
      ],
      "metadata": {
        "colab": {
          "base_uri": "https://localhost:8080/"
        },
        "id": "D0yJ4RQp43M7",
        "outputId": "2883f12c-edde-4439-89cb-c3c874986f44"
      },
      "execution_count": 47,
      "outputs": [
        {
          "output_type": "stream",
          "name": "stdout",
          "text": [
            "Accuracy: 0.20\n",
            "Mean absolute error: 0.40\n",
            "Mean squared error: 0.20\n",
            "Root mean squared error: 0.44\n"
          ]
        }
      ]
    },
    {
      "cell_type": "markdown",
      "source": [
        "##Logistic Regression"
      ],
      "metadata": {
        "id": "y7c47zTSOXIT"
      }
    },
    {
      "cell_type": "code",
      "source": [
        "#importing libraries\n",
        "import numpy as np\n",
        "from sklearn.linear_model import LogisticRegression\n",
        "from sklearn.metrics import classification_report, confusion_matrix\n",
        "import seaborn as sns"
      ],
      "metadata": {
        "id": "aHGXPeDbOZ81"
      },
      "execution_count": 48,
      "outputs": []
    },
    {
      "cell_type": "code",
      "source": [
        "def logistic_regression(X, y):\n",
        "  # Create a model and train it\n",
        "  model = LogisticRegression(solver='liblinear', C=10.0, random_state=0)\n",
        "  model.fit(X, y)\n",
        "  # Predict the model\n",
        "  y_pred = model.predict(X)\n",
        "  # Evaluate the model\n",
        "  score_ = model.score(X, y)\n",
        "  conf_m = confusion_matrix(y, y_pred)\n",
        "  report = classification_report(y, y_pred)\n",
        "  print('accuracy', accuracy_score(y, y_pred))\n",
        "  print('\\nLogistic Regression confusion matrix:\\n', conf_m)\n",
        "  print('\\n Logistic Regression report:\\n', report)"
      ],
      "metadata": {
        "id": "hXxkbwD6OZ_p"
      },
      "execution_count": 49,
      "outputs": []
    },
    {
      "cell_type": "code",
      "source": [
        "logistic_regression(X, y)"
      ],
      "metadata": {
        "colab": {
          "base_uri": "https://localhost:8080/"
        },
        "id": "RY7n-CqkaklG",
        "outputId": "52690754-0d3b-490f-cb4e-ddec1cc980d0"
      },
      "execution_count": 50,
      "outputs": [
        {
          "output_type": "stream",
          "name": "stdout",
          "text": [
            "accuracy 0.69700944386149\n",
            "\n",
            "Logistic Regression confusion matrix:\n",
            " [[1331  575]\n",
            " [ 580 1326]]\n",
            "\n",
            " Logistic Regression report:\n",
            "               precision    recall  f1-score   support\n",
            "\n",
            "           0       0.70      0.70      0.70      1906\n",
            "           1       0.70      0.70      0.70      1906\n",
            "\n",
            "    accuracy                           0.70      3812\n",
            "   macro avg       0.70      0.70      0.70      3812\n",
            "weighted avg       0.70      0.70      0.70      3812\n",
            "\n"
          ]
        }
      ]
    }
  ]
}